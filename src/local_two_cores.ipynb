{
 "cells": [
  {
   "cell_type": "code",
   "execution_count": null,
   "id": "f57fb4f2",
   "metadata": {},
   "outputs": [],
   "source": [
    "from pyspark.sql import DataFrame, SparkSession\n",
    "from pyspark.sql import functions as F, types as T\n",
    "from pyspark.rdd import RDD"
   ]
  },
  {
   "cell_type": "code",
   "execution_count": null,
   "id": "397755e4",
   "metadata": {},
   "outputs": [],
   "source": [
    "spark: SparkSession = SparkSession.builder \\\n",
    "    .appName(\"Parallel Array Processing\") \\\n",
    "    .master(\"local[2]\") \\\n",
    "    .getOrCreate()\n",
    "sc = spark.sparkContext\n",
    "print(f\"Monitor cluster at: {sc.uiWebUrl}\")"
   ]
  },
  {
   "cell_type": "markdown",
   "id": "2982c444",
   "metadata": {},
   "source": [
    "### Generate and process resilient distributed dataset (RDD) from an array on the driver"
   ]
  },
  {
   "cell_type": "code",
   "execution_count": null,
   "id": "f5ed70fa",
   "metadata": {},
   "outputs": [],
   "source": [
    "data = [1, 2, 3, 4, 5]\n",
    "rdd: RDD[int] = sc.parallelize(data)\n",
    "result = rdd.map(lambda x: x * 2).collect()\n",
    "print(result)  # Output: [2, 4, 6, 8, 10]"
   ]
  },
  {
   "cell_type": "markdown",
   "id": "12e288cb",
   "metadata": {},
   "source": [
    "### Generate and process a DataFrame from a .csv file on the driver "
   ]
  },
  {
   "cell_type": "code",
   "execution_count": null,
   "id": "362ce11e",
   "metadata": {},
   "outputs": [],
   "source": [
    "higgs_data: DataFrame = spark.read.csv(\n",
    "    \"../data/HIGGS.csv\",\n",
    "    header=False,\n",
    "    inferSchema=True\n",
    ")\n",
    "higgs_data.printSchema()"
   ]
  },
  {
   "cell_type": "code",
   "execution_count": null,
   "id": "50899678",
   "metadata": {},
   "outputs": [],
   "source": [
    "(\n",
    "    higgs_data\n",
    "    .agg(\n",
    "        F.mean(F.col(\"_c0\")).alias(\"mean_c0\"),\n",
    "        F.stddev(F.col(\"_c0\")).alias(\"stddev_c0\"),\n",
    "    )\n",
    "    .toPandas()\n",
    ")"
   ]
  },
  {
   "cell_type": "markdown",
   "id": "09719201",
   "metadata": {},
   "source": [
    "### Free cluster resources"
   ]
  },
  {
   "cell_type": "code",
   "execution_count": null,
   "id": "cd84c487",
   "metadata": {},
   "outputs": [],
   "source": [
    "spark.stop()"
   ]
  }
 ],
 "metadata": {
  "kernelspec": {
   "display_name": ".venv",
   "language": "python",
   "name": "python3"
  },
  "language_info": {
   "codemirror_mode": {
    "name": "ipython",
    "version": 3
   },
   "file_extension": ".py",
   "mimetype": "text/x-python",
   "name": "python",
   "nbconvert_exporter": "python",
   "pygments_lexer": "ipython3",
   "version": "3.12.3"
  }
 },
 "nbformat": 4,
 "nbformat_minor": 5
}
